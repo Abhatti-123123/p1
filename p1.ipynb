{
  "nbformat": 4,
  "nbformat_minor": 0,
  "metadata": {
    "colab": {
      "name": "Untitled0.ipynb",
      "provenance": [],
      "mount_file_id": "13_uMhFAlIHLVQ6177Gl_TBNPpgo0DPbf",
      "authorship_tag": "ABX9TyMfSrzVFSwHVii/sb6vYkdC",
      "include_colab_link": true
    },
    "kernelspec": {
      "name": "python3",
      "display_name": "Python 3"
    },
    "accelerator": "GPU"
  },
  "cells": [
    {
      "cell_type": "markdown",
      "metadata": {
        "id": "view-in-github",
        "colab_type": "text"
      },
      "source": [
        "<a href=\"https://colab.research.google.com/github/Abhatti-123123/p1/blob/master/p1.ipynb\" target=\"_parent\"><img src=\"https://colab.research.google.com/assets/colab-badge.svg\" alt=\"Open In Colab\"/></a>"
      ]
    },
    {
      "cell_type": "code",
      "metadata": {
        "id": "Q-MOPE1Gl0eM",
        "colab_type": "code",
        "colab": {}
      },
      "source": [
        "import tensorflow as tf\n",
        "import pandas as pd\n",
        "import numpy as np\n",
        "import scipy.io"
      ],
      "execution_count": 1,
      "outputs": []
    },
    {
      "cell_type": "code",
      "metadata": {
        "id": "ifqcxk9Kmu3z",
        "colab_type": "code",
        "colab": {
          "base_uri": "https://localhost:8080/",
          "height": 202
        },
        "outputId": "4d46a7ed-948a-4eac-83e0-c4f808450fac"
      },
      "source": [
        "!wget http://www.robots.ox.ac.uk/~vgg/data/flowers/102/102flowers.tgz\n",
        "\n",
        "\n"
      ],
      "execution_count": 2,
      "outputs": [
        {
          "output_type": "stream",
          "text": [
            "--2020-08-21 06:49:39--  http://www.robots.ox.ac.uk/~vgg/data/flowers/102/102flowers.tgz\n",
            "Resolving www.robots.ox.ac.uk (www.robots.ox.ac.uk)... 129.67.94.2\n",
            "Connecting to www.robots.ox.ac.uk (www.robots.ox.ac.uk)|129.67.94.2|:80... connected.\n",
            "HTTP request sent, awaiting response... 200 OK\n",
            "Length: 344862509 (329M) [application/x-gzip]\n",
            "Saving to: ‘102flowers.tgz’\n",
            "\n",
            "102flowers.tgz      100%[===================>] 328.89M  29.6MB/s    in 12s     \n",
            "\n",
            "2020-08-21 06:49:51 (27.6 MB/s) - ‘102flowers.tgz’ saved [344862509/344862509]\n",
            "\n"
          ],
          "name": "stdout"
        }
      ]
    },
    {
      "cell_type": "code",
      "metadata": {
        "id": "LjSQoAaVptCk",
        "colab_type": "code",
        "colab": {}
      },
      "source": [
        "import tarfile"
      ],
      "execution_count": 3,
      "outputs": []
    },
    {
      "cell_type": "markdown",
      "metadata": {
        "id": "nd5d1h0DyuBL",
        "colab_type": "text"
      },
      "source": [
        ""
      ]
    },
    {
      "cell_type": "code",
      "metadata": {
        "id": "TbpEzH1nxKDu",
        "colab_type": "code",
        "colab": {}
      },
      "source": [
        "my_tar = tarfile.open('102flowers.tgz')\n",
        "my_tar.extractall('/content/flowers')\n",
        "my_tar.close()\n"
      ],
      "execution_count": 4,
      "outputs": []
    },
    {
      "cell_type": "code",
      "metadata": {
        "id": "QnOU5Dyaxt8a",
        "colab_type": "code",
        "colab": {
          "base_uri": "https://localhost:8080/",
          "height": 202
        },
        "outputId": "f8e552bd-37dd-4dfe-8904-c06ccf8895c5"
      },
      "source": [
        "!wget http://www.robots.ox.ac.uk/~vgg/data/flowers/102/imagelabels.mat"
      ],
      "execution_count": 5,
      "outputs": [
        {
          "output_type": "stream",
          "text": [
            "--2020-08-21 06:50:07--  http://www.robots.ox.ac.uk/~vgg/data/flowers/102/imagelabels.mat\n",
            "Resolving www.robots.ox.ac.uk (www.robots.ox.ac.uk)... 129.67.94.2\n",
            "Connecting to www.robots.ox.ac.uk (www.robots.ox.ac.uk)|129.67.94.2|:80... connected.\n",
            "HTTP request sent, awaiting response... 200 OK\n",
            "Length: 502\n",
            "Saving to: ‘imagelabels.mat’\n",
            "\n",
            "\rimagelabels.mat       0%[                    ]       0  --.-KB/s               \rimagelabels.mat     100%[===================>]     502  --.-KB/s    in 0s      \n",
            "\n",
            "2020-08-21 06:50:08 (69.2 MB/s) - ‘imagelabels.mat’ saved [502/502]\n",
            "\n"
          ],
          "name": "stdout"
        }
      ]
    },
    {
      "cell_type": "code",
      "metadata": {
        "id": "KYzrl1eOzaY1",
        "colab_type": "code",
        "colab": {}
      },
      "source": [
        "image_labels = scipy.io.loadmat(\"imagelabels.mat\")"
      ],
      "execution_count": 6,
      "outputs": []
    },
    {
      "cell_type": "code",
      "metadata": {
        "id": "E_WXaEYW0RxS",
        "colab_type": "code",
        "colab": {
          "base_uri": "https://localhost:8080/",
          "height": 84
        },
        "outputId": "b7338926-e4ea-42c3-ef4b-fd3aa8e36567"
      },
      "source": [
        "image_labels"
      ],
      "execution_count": 7,
      "outputs": [
        {
          "output_type": "execute_result",
          "data": {
            "text/plain": [
              "{'__globals__': [],\n",
              " '__header__': b'MATLAB 5.0 MAT-file, Platform: GLNX86, Created on: Thu Feb 19 15:43:33 2009',\n",
              " '__version__': '1.0',\n",
              " 'labels': array([[77, 77, 77, ..., 62, 62, 62]], dtype=uint8)}"
            ]
          },
          "metadata": {
            "tags": []
          },
          "execution_count": 7
        }
      ]
    },
    {
      "cell_type": "code",
      "metadata": {
        "id": "wzrI42Vy0g71",
        "colab_type": "code",
        "colab": {}
      },
      "source": [
        "image_labels = image_labels['labels']"
      ],
      "execution_count": 8,
      "outputs": []
    },
    {
      "cell_type": "code",
      "metadata": {
        "id": "Ar6tDxfR0qST",
        "colab_type": "code",
        "colab": {}
      },
      "source": [
        "image_labels = image_labels[0]\n"
      ],
      "execution_count": 9,
      "outputs": []
    },
    {
      "cell_type": "code",
      "metadata": {
        "id": "YbP1VyAF0wR6",
        "colab_type": "code",
        "colab": {
          "base_uri": "https://localhost:8080/",
          "height": 34
        },
        "outputId": "10cce3a0-e3af-4a3b-ca6f-f5c9c7bee747"
      },
      "source": [
        "print(image_labels)"
      ],
      "execution_count": 10,
      "outputs": [
        {
          "output_type": "stream",
          "text": [
            "[77 77 77 ... 62 62 62]\n"
          ],
          "name": "stdout"
        }
      ]
    },
    {
      "cell_type": "code",
      "metadata": {
        "id": "dEJ3wWKq1Dx4",
        "colab_type": "code",
        "colab": {}
      },
      "source": [
        "import matplotlib.pyplot as plt\n",
        "import os\n",
        "import cv2\n",
        "%matplotlib inline"
      ],
      "execution_count": 11,
      "outputs": []
    },
    {
      "cell_type": "code",
      "metadata": {
        "id": "Qn4kv1xX4As5",
        "colab_type": "code",
        "colab": {}
      },
      "source": [
        "path = '/content/flowers/jpg'\n"
      ],
      "execution_count": 12,
      "outputs": []
    },
    {
      "cell_type": "code",
      "metadata": {
        "id": "8OyhBPxXMijG",
        "colab_type": "code",
        "colab": {}
      },
      "source": [
        "training_data = []\n",
        "img_size = 50\n",
        "def create_training_data():\n",
        "  i = 0\n",
        "  for img in os.listdir(path):\n",
        "    img_array = cv2.imread(os.path.join(path, img))\n",
        "    new_array = cv2.resize(img_array, (img_size, img_size))\n",
        "    training_data.append([new_array, image_labels[i]])\n",
        "    i = i + 1\n",
        "create_training_data()"
      ],
      "execution_count": 13,
      "outputs": []
    },
    {
      "cell_type": "code",
      "metadata": {
        "id": "c5g0YPSsNUP3",
        "colab_type": "code",
        "colab": {
          "base_uri": "https://localhost:8080/",
          "height": 34
        },
        "outputId": "48da7614-21a9-436a-8d58-450f790fe206"
      },
      "source": [
        "print(len(training_data))"
      ],
      "execution_count": 14,
      "outputs": [
        {
          "output_type": "stream",
          "text": [
            "8189\n"
          ],
          "name": "stdout"
        }
      ]
    },
    {
      "cell_type": "code",
      "metadata": {
        "id": "HYMdztvwOfCH",
        "colab_type": "code",
        "colab": {}
      },
      "source": [
        "import  random\n",
        "random.shuffle(training_data)"
      ],
      "execution_count": 15,
      "outputs": []
    },
    {
      "cell_type": "code",
      "metadata": {
        "id": "SrYxH-l5OxkQ",
        "colab_type": "code",
        "colab": {
          "base_uri": "https://localhost:8080/",
          "height": 185
        },
        "outputId": "5c4c4883-30bf-469f-bc8f-e2dd613c92ee"
      },
      "source": [
        "for sample in training_data[:10]:\n",
        "  print(sample[1])"
      ],
      "execution_count": 16,
      "outputs": [
        {
          "output_type": "stream",
          "text": [
            "84\n",
            "22\n",
            "46\n",
            "98\n",
            "53\n",
            "81\n",
            "39\n",
            "43\n",
            "43\n",
            "73\n"
          ],
          "name": "stdout"
        }
      ]
    },
    {
      "cell_type": "code",
      "metadata": {
        "id": "kINz34oVPEUa",
        "colab_type": "code",
        "colab": {}
      },
      "source": [
        "x = []\n",
        "y = []"
      ],
      "execution_count": 17,
      "outputs": []
    },
    {
      "cell_type": "code",
      "metadata": {
        "id": "GR8VtgUAWoK8",
        "colab_type": "code",
        "colab": {}
      },
      "source": [
        "for features, labels in training_data:\n",
        "  x.append(features)\n",
        "  y.append(labels)"
      ],
      "execution_count": 18,
      "outputs": []
    },
    {
      "cell_type": "code",
      "metadata": {
        "id": "zRSmGBzBW7_t",
        "colab_type": "code",
        "colab": {}
      },
      "source": [
        "x = np.array(x).reshape(-1, img_size, img_size, 3)"
      ],
      "execution_count": 19,
      "outputs": []
    },
    {
      "cell_type": "code",
      "metadata": {
        "id": "kDekVvugXP2x",
        "colab_type": "code",
        "colab": {}
      },
      "source": [
        "import pickle"
      ],
      "execution_count": 20,
      "outputs": []
    },
    {
      "cell_type": "code",
      "metadata": {
        "id": "WWJA3NLlXQ8k",
        "colab_type": "code",
        "colab": {
          "base_uri": "https://localhost:8080/",
          "height": 34
        },
        "outputId": "58d95109-854d-4856-94f4-de6b7416eaa1"
      },
      "source": [
        "pickle_out = open(\"X.pickle\", \"wb\")\n",
        "pickle.dump(x, pickle_out)\n",
        "pickle_out.close"
      ],
      "execution_count": 21,
      "outputs": [
        {
          "output_type": "execute_result",
          "data": {
            "text/plain": [
              "<function BufferedWriter.close>"
            ]
          },
          "metadata": {
            "tags": []
          },
          "execution_count": 21
        }
      ]
    },
    {
      "cell_type": "code",
      "metadata": {
        "id": "E1EVchHsZwIm",
        "colab_type": "code",
        "colab": {
          "base_uri": "https://localhost:8080/",
          "height": 34
        },
        "outputId": "a56bb7d8-dbc4-410b-d5e1-f15261a38f7d"
      },
      "source": [
        "pickle_out = open(\"y.pickle\", \"wb\")\n",
        "pickle.dump(y, pickle_out)\n",
        "pickle_out.close"
      ],
      "execution_count": 22,
      "outputs": [
        {
          "output_type": "execute_result",
          "data": {
            "text/plain": [
              "<function BufferedWriter.close>"
            ]
          },
          "metadata": {
            "tags": []
          },
          "execution_count": 22
        }
      ]
    },
    {
      "cell_type": "code",
      "metadata": {
        "id": "OAX4MukAYDCh",
        "colab_type": "code",
        "colab": {}
      },
      "source": [
        "!cp '/content/X.pickle' '/content/drive/My Drive'"
      ],
      "execution_count": 23,
      "outputs": []
    },
    {
      "cell_type": "code",
      "metadata": {
        "id": "nRCNZ-m9ZFmO",
        "colab_type": "code",
        "colab": {}
      },
      "source": [
        "!cp '/content/y.pickle' '/content/drive/My Drive'"
      ],
      "execution_count": 24,
      "outputs": []
    },
    {
      "cell_type": "code",
      "metadata": {
        "id": "-tfch_cYaLi7",
        "colab_type": "code",
        "colab": {}
      },
      "source": [
        "pickle_in = open(\"/content/drive/My Drive/X.pickle\", \"rb\")\n",
        "X = pickle.load(pickle_in)\n",
        "pickle_in.close()"
      ],
      "execution_count": 25,
      "outputs": []
    },
    {
      "cell_type": "code",
      "metadata": {
        "id": "_5v0O92XsbhU",
        "colab_type": "code",
        "colab": {}
      },
      "source": [
        "pickle_in = open(\"/content/drive/My Drive/y.pickle\", \"rb\")\n",
        "y = pickle.load(pickle_in)\n",
        "pickle_in.close()"
      ],
      "execution_count": 102,
      "outputs": []
    },
    {
      "cell_type": "code",
      "metadata": {
        "id": "cIulwcMHsiGN",
        "colab_type": "code",
        "colab": {
          "base_uri": "https://localhost:8080/",
          "height": 1000
        },
        "outputId": "c1373061-edac-435a-9449-99f1ad4adcdd"
      },
      "source": [
        "X = X/255.0\n"
      ],
      "execution_count": 29,
      "outputs": [
        {
          "output_type": "execute_result",
          "data": {
            "text/plain": [
              "array([[[[3.69088812e-04, 7.84313725e-04, 1.30718954e-03],\n",
              "         [3.69088812e-04, 7.99692426e-04, 1.32256824e-03],\n",
              "         [3.99846213e-04, 8.76585928e-04, 1.35332564e-03],\n",
              "         ...,\n",
              "         [4.61361015e-04, 9.22722030e-04, 1.46097655e-03],\n",
              "         [3.99846213e-04, 8.61207228e-04, 1.39946175e-03],\n",
              "         [3.69088812e-04, 8.30449827e-04, 1.36870434e-03]],\n",
              "\n",
              "        [[3.99846213e-04, 8.15071126e-04, 1.33794694e-03],\n",
              "         [3.69088812e-04, 7.99692426e-04, 1.32256824e-03],\n",
              "         [3.99846213e-04, 8.76585928e-04, 1.35332564e-03],\n",
              "         ...,\n",
              "         [4.76739715e-04, 9.38100730e-04, 1.47635525e-03],\n",
              "         [4.15224913e-04, 8.76585928e-04, 1.41484045e-03],\n",
              "         [4.61361015e-04, 8.76585928e-04, 1.43021915e-03]],\n",
              "\n",
              "        [[3.99846213e-04, 8.30449827e-04, 1.35332564e-03],\n",
              "         [3.84467512e-04, 8.15071126e-04, 1.33794694e-03],\n",
              "         [4.61361015e-04, 9.07343329e-04, 1.38408304e-03],\n",
              "         ...,\n",
              "         [4.76739715e-04, 9.38100730e-04, 1.47635525e-03],\n",
              "         [4.61361015e-04, 8.91964629e-04, 1.41484045e-03],\n",
              "         [5.69011918e-04, 8.30449827e-04, 1.46097655e-03]],\n",
              "\n",
              "        ...,\n",
              "\n",
              "        [[4.61361015e-05, 7.68935025e-05, 9.22722030e-05],\n",
              "         [7.68935025e-05, 1.23029604e-04, 1.53787005e-04],\n",
              "         [1.53787005e-05, 4.61361015e-05, 4.61361015e-05],\n",
              "         ...,\n",
              "         [7.68935025e-05, 1.07650903e-04, 1.07650903e-04],\n",
              "         [3.07574010e-05, 6.15148020e-05, 6.15148020e-05],\n",
              "         [4.61361015e-05, 1.23029604e-04, 1.07650903e-04]],\n",
              "\n",
              "        [[1.07650903e-04, 1.07650903e-04, 1.99923106e-04],\n",
              "         [1.69165705e-04, 3.07574010e-04, 5.22875817e-04],\n",
              "         [1.53787005e-04, 1.84544406e-04, 3.22952710e-04],\n",
              "         ...,\n",
              "         [6.15148020e-05, 9.22722030e-05, 9.22722030e-05],\n",
              "         [4.61361015e-05, 7.68935025e-05, 7.68935025e-05],\n",
              "         [9.22722030e-05, 1.69165705e-04, 1.53787005e-04]],\n",
              "\n",
              "        [[6.15148020e-05, 9.22722030e-05, 9.22722030e-05],\n",
              "         [6.15148020e-05, 1.23029604e-04, 1.69165705e-04],\n",
              "         [1.07650903e-04, 2.76816609e-04, 6.15148020e-04],\n",
              "         ...,\n",
              "         [7.68935025e-05, 1.07650903e-04, 1.07650903e-04],\n",
              "         [6.15148020e-05, 9.22722030e-05, 9.22722030e-05],\n",
              "         [7.68935025e-05, 1.53787005e-04, 1.38408304e-04]]],\n",
              "\n",
              "\n",
              "       [[[1.79930796e-03, 2.10688197e-03, 1.33794694e-03],\n",
              "         [7.99692426e-04, 9.84236832e-04, 4.76739715e-04],\n",
              "         [8.61207228e-04, 9.68858131e-04, 4.76739715e-04],\n",
              "         ...,\n",
              "         [1.84544406e-04, 3.53710111e-04, 2.30680507e-04],\n",
              "         [2.30680507e-04, 3.84467512e-04, 2.76816609e-04],\n",
              "         [6.15148020e-05, 1.84544406e-04, 1.69165705e-04]],\n",
              "\n",
              "        [[1.33794694e-03, 1.69165705e-03, 9.99615532e-04],\n",
              "         [5.53633218e-04, 7.68935025e-04, 3.22952710e-04],\n",
              "         [9.22722030e-04, 9.53479431e-04, 5.22875817e-04],\n",
              "         ...,\n",
              "         [3.38331411e-04, 5.38254517e-04, 3.22952710e-04],\n",
              "         [2.15301807e-04, 3.69088812e-04, 2.61437908e-04],\n",
              "         [6.15148020e-05, 1.84544406e-04, 1.84544406e-04]],\n",
              "\n",
              "        [[5.53633218e-04, 7.22798923e-04, 3.53710111e-04],\n",
              "         [1.23029604e-04, 2.46059208e-04, 2.76816609e-04],\n",
              "         [9.22722030e-04, 9.53479431e-04, 4.92118416e-04],\n",
              "         ...,\n",
              "         [1.99923106e-04, 3.69088812e-04, 2.46059208e-04],\n",
              "         [2.61437908e-04, 4.45982314e-04, 2.61437908e-04],\n",
              "         [3.38331411e-04, 5.53633218e-04, 3.38331411e-04]],\n",
              "\n",
              "        ...,\n",
              "\n",
              "        [[1.15340254e-03, 8.30449827e-04, 3.99846213e-04],\n",
              "         [7.38177624e-04, 7.38177624e-04, 3.38331411e-04],\n",
              "         [7.99692426e-04, 6.76662822e-04, 3.53710111e-04],\n",
              "         ...,\n",
              "         [3.84467512e-04, 4.61361015e-04, 3.07574010e-04],\n",
              "         [2.76816609e-04, 3.84467512e-04, 2.61437908e-04],\n",
              "         [1.53787005e-04, 2.46059208e-04, 2.15301807e-04]],\n",
              "\n",
              "        [[9.99615532e-04, 6.45905421e-04, 2.46059208e-04],\n",
              "         [1.01499423e-03, 6.92041522e-04, 3.22952710e-04],\n",
              "         [2.92195309e-04, 5.38254517e-04, 4.76739715e-04],\n",
              "         ...,\n",
              "         [3.22952710e-04, 4.61361015e-04, 2.61437908e-04],\n",
              "         [2.92195309e-04, 3.53710111e-04, 2.61437908e-04],\n",
              "         [1.38408304e-04, 2.76816609e-04, 2.30680507e-04]],\n",
              "\n",
              "        [[1.10726644e-03, 8.61207228e-04, 4.15224913e-04],\n",
              "         [4.61361015e-05, 1.84544406e-04, 3.99846213e-04],\n",
              "         [5.99769319e-04, 6.30526720e-04, 6.92041522e-04],\n",
              "         ...,\n",
              "         [2.61437908e-04, 3.22952710e-04, 1.99923106e-04],\n",
              "         [2.61437908e-04, 3.22952710e-04, 2.30680507e-04],\n",
              "         [1.84544406e-04, 3.07574010e-04, 2.46059208e-04]]],\n",
              "\n",
              "\n",
              "       [[[1.32256824e-03, 1.99923106e-03, 1.86082276e-03],\n",
              "         [3.38331411e-04, 9.38100730e-04, 7.22798923e-04],\n",
              "         [4.30603614e-04, 1.09188774e-03, 7.68935025e-04],\n",
              "         ...,\n",
              "         [1.84544406e-04, 7.53556324e-04, 5.22875817e-04],\n",
              "         [7.68935025e-05, 7.22798923e-04, 4.15224913e-04],\n",
              "         [5.07497116e-04, 9.22722030e-04, 7.07420223e-04]],\n",
              "\n",
              "        [[7.68935025e-04, 1.24567474e-03, 1.07650903e-03],\n",
              "         [2.15301807e-04, 8.76585928e-04, 6.30526720e-04],\n",
              "         [4.92118416e-04, 1.03037293e-03, 8.15071126e-04],\n",
              "         ...,\n",
              "         [2.92195309e-04, 9.22722030e-04, 6.92041522e-04],\n",
              "         [1.07650903e-04, 5.22875817e-04, 3.22952710e-04],\n",
              "         [2.61437908e-04, 6.61284121e-04, 4.45982314e-04]],\n",
              "\n",
              "        [[5.53633218e-04, 1.21491734e-03, 9.68858131e-04],\n",
              "         [4.15224913e-04, 9.68858131e-04, 7.99692426e-04],\n",
              "         [5.69011918e-04, 9.84236832e-04, 9.22722030e-04],\n",
              "         ...,\n",
              "         [3.69088812e-04, 9.07343329e-04, 6.45905421e-04],\n",
              "         [9.22722030e-05, 6.92041522e-04, 4.45982314e-04],\n",
              "         [3.07574010e-05, 5.07497116e-04, 2.46059208e-04]],\n",
              "\n",
              "        ...,\n",
              "\n",
              "        [[2.30680507e-04, 3.22952710e-04, 3.99846213e-04],\n",
              "         [1.69165705e-04, 2.30680507e-04, 3.07574010e-04],\n",
              "         [1.07650903e-03, 1.23029604e-03, 1.33794694e-03],\n",
              "         ...,\n",
              "         [1.18415994e-03, 1.12264514e-03, 2.27604767e-03],\n",
              "         [1.24567474e-03, 1.18415994e-03, 2.13763937e-03],\n",
              "         [1.21491734e-03, 1.19953864e-03, 2.16839677e-03]],\n",
              "\n",
              "        [[6.61284121e-04, 7.53556324e-04, 9.22722030e-04],\n",
              "         [3.22952710e-04, 3.38331411e-04, 4.61361015e-04],\n",
              "         [1.84544406e-04, 1.99923106e-04, 2.61437908e-04],\n",
              "         ...,\n",
              "         [9.99615532e-04, 9.53479431e-04, 2.27604767e-03],\n",
              "         [7.53556324e-04, 7.53556324e-04, 1.73779316e-03],\n",
              "         [7.53556324e-04, 7.38177624e-04, 1.59938485e-03]],\n",
              "\n",
              "        [[4.76739715e-04, 5.38254517e-04, 1.06113033e-03],\n",
              "         [3.84467512e-04, 5.07497116e-04, 7.68935025e-04],\n",
              "         [3.22952710e-04, 3.69088812e-04, 4.76739715e-04],\n",
              "         ...,\n",
              "         [7.22798923e-04, 7.53556324e-04, 1.61476355e-03],\n",
              "         [6.30526720e-04, 6.45905421e-04, 1.39946175e-03],\n",
              "         [1.99923106e-04, 1.69165705e-04, 8.45828527e-04]]],\n",
              "\n",
              "\n",
              "       ...,\n",
              "\n",
              "\n",
              "       [[[1.49173395e-03, 5.38254517e-04, 1.69165705e-04],\n",
              "         [8.15071126e-04, 5.07497116e-04, 3.07574010e-04],\n",
              "         [3.53710111e-04, 2.76816609e-04, 3.07574010e-04],\n",
              "         ...,\n",
              "         [1.10726644e-03, 9.68858131e-04, 1.29181084e-03],\n",
              "         [9.22722030e-04, 8.76585928e-04, 1.12264514e-03],\n",
              "         [1.10726644e-03, 9.07343329e-04, 9.84236832e-04]],\n",
              "\n",
              "        [[8.15071126e-04, 7.22798923e-04, 7.07420223e-04],\n",
              "         [6.76662822e-04, 6.61284121e-04, 5.69011918e-04],\n",
              "         [2.92195309e-04, 2.92195309e-04, 1.99923106e-04],\n",
              "         ...,\n",
              "         [6.45905421e-04, 5.22875817e-04, 1.04575163e-03],\n",
              "         [1.16878124e-03, 1.16878124e-03, 1.03037293e-03],\n",
              "         [1.01499423e-03, 7.07420223e-04, 6.76662822e-04]],\n",
              "\n",
              "        [[3.87543253e-03, 2.72202999e-03, 1.69165705e-03],\n",
              "         [3.73702422e-03, 2.53748558e-03, 1.92233756e-03],\n",
              "         [3.53710111e-04, 3.53710111e-04, 2.61437908e-04],\n",
              "         ...,\n",
              "         [1.21491734e-03, 1.12264514e-03, 1.15340254e-03],\n",
              "         [1.44559785e-03, 1.27643214e-03, 1.06113033e-03],\n",
              "         [8.15071126e-04, 6.61284121e-04, 8.61207228e-04]],\n",
              "\n",
              "        ...,\n",
              "\n",
              "        [[5.53633218e-04, 6.61284121e-04, 7.22798923e-04],\n",
              "         [5.99769319e-04, 6.92041522e-04, 7.68935025e-04],\n",
              "         [5.99769319e-04, 6.76662822e-04, 7.22798923e-04],\n",
              "         ...,\n",
              "         [3.22952710e-04, 3.22952710e-04, 3.22952710e-04],\n",
              "         [4.15224913e-04, 4.15224913e-04, 4.15224913e-04],\n",
              "         [4.45982314e-04, 4.15224913e-04, 3.99846213e-04]],\n",
              "\n",
              "        [[3.38331411e-04, 5.38254517e-04, 5.69011918e-04],\n",
              "         [4.92118416e-04, 6.15148020e-04, 7.68935025e-04],\n",
              "         [6.30526720e-04, 6.92041522e-04, 7.53556324e-04],\n",
              "         ...,\n",
              "         [5.07497116e-04, 5.07497116e-04, 5.07497116e-04],\n",
              "         [4.15224913e-04, 4.92118416e-04, 4.76739715e-04],\n",
              "         [5.69011918e-04, 5.69011918e-04, 5.69011918e-04]],\n",
              "\n",
              "        [[1.09188774e-03, 1.18415994e-03, 1.23029604e-03],\n",
              "         [5.38254517e-04, 6.76662822e-04, 8.30449827e-04],\n",
              "         [5.07497116e-04, 6.30526720e-04, 7.38177624e-04],\n",
              "         ...,\n",
              "         [5.38254517e-04, 5.38254517e-04, 5.38254517e-04],\n",
              "         [4.92118416e-04, 5.69011918e-04, 5.53633218e-04],\n",
              "         [5.53633218e-04, 5.53633218e-04, 5.53633218e-04]]],\n",
              "\n",
              "\n",
              "       [[[1.23029604e-04, 1.23029604e-04, 1.23029604e-04],\n",
              "         [1.53787005e-04, 1.53787005e-04, 1.53787005e-04],\n",
              "         [1.53787005e-04, 1.53787005e-04, 1.53787005e-04],\n",
              "         ...,\n",
              "         [1.53787005e-04, 1.53787005e-04, 1.53787005e-04],\n",
              "         [1.53787005e-04, 1.53787005e-04, 1.53787005e-04],\n",
              "         [1.53787005e-04, 1.53787005e-04, 1.53787005e-04]],\n",
              "\n",
              "        [[1.07650903e-04, 1.07650903e-04, 1.07650903e-04],\n",
              "         [1.53787005e-04, 1.53787005e-04, 1.53787005e-04],\n",
              "         [1.53787005e-04, 1.53787005e-04, 1.53787005e-04],\n",
              "         ...,\n",
              "         [1.38408304e-04, 1.38408304e-04, 1.38408304e-04],\n",
              "         [1.53787005e-04, 1.53787005e-04, 1.53787005e-04],\n",
              "         [1.53787005e-04, 1.53787005e-04, 1.53787005e-04]],\n",
              "\n",
              "        [[1.38408304e-04, 1.38408304e-04, 1.38408304e-04],\n",
              "         [1.53787005e-04, 1.53787005e-04, 1.53787005e-04],\n",
              "         [1.69165705e-04, 1.69165705e-04, 1.69165705e-04],\n",
              "         ...,\n",
              "         [1.53787005e-04, 1.53787005e-04, 1.53787005e-04],\n",
              "         [1.53787005e-04, 1.53787005e-04, 1.53787005e-04],\n",
              "         [1.53787005e-04, 1.53787005e-04, 1.53787005e-04]],\n",
              "\n",
              "        ...,\n",
              "\n",
              "        [[1.69165705e-04, 1.53787005e-04, 1.84544406e-04],\n",
              "         [1.69165705e-04, 1.69165705e-04, 1.69165705e-04],\n",
              "         [1.69165705e-04, 1.69165705e-04, 1.69165705e-04],\n",
              "         ...,\n",
              "         [1.38408304e-04, 1.38408304e-04, 1.38408304e-04],\n",
              "         [1.38408304e-04, 1.38408304e-04, 1.38408304e-04],\n",
              "         [1.23029604e-04, 1.23029604e-04, 1.23029604e-04]],\n",
              "\n",
              "        [[1.69165705e-04, 1.53787005e-04, 1.84544406e-04],\n",
              "         [1.69165705e-04, 1.69165705e-04, 1.69165705e-04],\n",
              "         [1.69165705e-04, 1.69165705e-04, 1.69165705e-04],\n",
              "         ...,\n",
              "         [1.38408304e-04, 1.38408304e-04, 1.38408304e-04],\n",
              "         [1.38408304e-04, 1.38408304e-04, 1.38408304e-04],\n",
              "         [1.53787005e-04, 1.53787005e-04, 1.53787005e-04]],\n",
              "\n",
              "        [[1.69165705e-04, 1.53787005e-04, 1.84544406e-04],\n",
              "         [1.53787005e-04, 1.53787005e-04, 1.53787005e-04],\n",
              "         [1.53787005e-04, 1.53787005e-04, 1.53787005e-04],\n",
              "         ...,\n",
              "         [1.38408304e-04, 1.38408304e-04, 1.38408304e-04],\n",
              "         [1.38408304e-04, 1.38408304e-04, 1.38408304e-04],\n",
              "         [1.38408304e-04, 1.38408304e-04, 1.38408304e-04]]],\n",
              "\n",
              "\n",
              "       [[[1.53787005e-04, 3.53710111e-04, 3.22952710e-04],\n",
              "         [1.53787005e-04, 3.84467512e-04, 3.53710111e-04],\n",
              "         [1.84544406e-04, 3.99846213e-04, 3.69088812e-04],\n",
              "         ...,\n",
              "         [9.22722030e-04, 1.26105344e-03, 1.79930796e-03],\n",
              "         [6.61284121e-04, 1.07650903e-03, 1.63014225e-03],\n",
              "         [6.61284121e-04, 1.13802384e-03, 1.39946175e-03]],\n",
              "\n",
              "        [[4.61361015e-05, 1.38408304e-04, 1.23029604e-04],\n",
              "         [1.53787005e-04, 3.53710111e-04, 3.22952710e-04],\n",
              "         [2.15301807e-04, 4.30603614e-04, 3.99846213e-04],\n",
              "         ...,\n",
              "         [7.07420223e-04, 9.68858131e-04, 1.46097655e-03],\n",
              "         [8.91964629e-04, 1.67627835e-03, 2.09150327e-03],\n",
              "         [5.99769319e-04, 7.38177624e-04, 1.15340254e-03]],\n",
              "\n",
              "        [[3.07574010e-05, 6.15148020e-05, 6.15148020e-05],\n",
              "         [1.69165705e-04, 3.07574010e-04, 2.92195309e-04],\n",
              "         [1.84544406e-04, 3.53710111e-04, 3.22952710e-04],\n",
              "         ...,\n",
              "         [4.45982314e-04, 8.30449827e-04, 1.16878124e-03],\n",
              "         [1.99923106e-04, 4.76739715e-04, 5.99769319e-04],\n",
              "         [1.99923106e-04, 3.38331411e-04, 6.45905421e-04]],\n",
              "\n",
              "        ...,\n",
              "\n",
              "        [[1.84544406e-04, 3.07574010e-04, 2.92195309e-04],\n",
              "         [2.46059208e-04, 4.45982314e-04, 4.15224913e-04],\n",
              "         [1.53787005e-04, 2.76816609e-04, 2.61437908e-04],\n",
              "         ...,\n",
              "         [2.76816609e-04, 4.30603614e-04, 3.99846213e-04],\n",
              "         [1.69165705e-04, 4.76739715e-04, 4.15224913e-04],\n",
              "         [2.61437908e-04, 6.61284121e-04, 5.38254517e-04]],\n",
              "\n",
              "        [[2.61437908e-04, 4.92118416e-04, 4.30603614e-04],\n",
              "         [1.99923106e-04, 4.76739715e-04, 4.15224913e-04],\n",
              "         [2.61437908e-04, 6.15148020e-04, 5.22875817e-04],\n",
              "         ...,\n",
              "         [3.38331411e-04, 6.45905421e-04, 5.99769319e-04],\n",
              "         [3.84467512e-04, 7.38177624e-04, 5.99769319e-04],\n",
              "         [3.07574010e-04, 6.61284121e-04, 5.38254517e-04]],\n",
              "\n",
              "        [[1.99923106e-04, 5.53633218e-04, 4.76739715e-04],\n",
              "         [1.38408304e-04, 4.76739715e-04, 3.99846213e-04],\n",
              "         [2.46059208e-04, 5.53633218e-04, 4.76739715e-04],\n",
              "         ...,\n",
              "         [3.99846213e-04, 6.30526720e-04, 5.99769319e-04],\n",
              "         [4.61361015e-04, 9.53479431e-04, 7.84313725e-04],\n",
              "         [3.53710111e-04, 7.99692426e-04, 6.61284121e-04]]]])"
            ]
          },
          "metadata": {
            "tags": []
          },
          "execution_count": 29
        }
      ]
    },
    {
      "cell_type": "code",
      "metadata": {
        "id": "Q785C7wcIKq-",
        "colab_type": "code",
        "colab": {}
      },
      "source": [
        "y = pd.get_dummies(y)"
      ],
      "execution_count": 132,
      "outputs": []
    },
    {
      "cell_type": "code",
      "metadata": {
        "id": "xhLtqfN7taXL",
        "colab_type": "code",
        "colab": {}
      },
      "source": [
        "from sklearn.model_selection import train_test_split"
      ],
      "execution_count": 133,
      "outputs": []
    },
    {
      "cell_type": "code",
      "metadata": {
        "id": "b3El7oiXzJAg",
        "colab_type": "code",
        "colab": {}
      },
      "source": [
        "X_train, X_test, y_train, y_test = train_test_split(X, y)"
      ],
      "execution_count": 117,
      "outputs": []
    },
    {
      "cell_type": "code",
      "metadata": {
        "id": "s6GVQJQZzelS",
        "colab_type": "code",
        "colab": {}
      },
      "source": [
        "from tensorflow import keras"
      ],
      "execution_count": 35,
      "outputs": []
    },
    {
      "cell_type": "code",
      "metadata": {
        "id": "-3clFDA6zgHL",
        "colab_type": "code",
        "colab": {}
      },
      "source": [
        "model = keras.Sequential([\n",
        "                          keras.layers.Flatten(input_shape=(img_size, img_size, 3)),\n",
        "                          keras.layers.Dense(750, activation = tf.nn.relu),\n",
        "                          keras.layers.Dense(102, activation = tf.nn.softmax)\n",
        "])"
      ],
      "execution_count": 128,
      "outputs": []
    },
    {
      "cell_type": "code",
      "metadata": {
        "id": "YkkmTw7b241X",
        "colab_type": "code",
        "colab": {}
      },
      "source": [
        "model.compile(optimizer = 'adam',\n",
        "              loss = 'sparse_categorical_crossentropy',\n",
        "              metrics = (['accuracy']))"
      ],
      "execution_count": 129,
      "outputs": []
    },
    {
      "cell_type": "code",
      "metadata": {
        "id": "5kooTr0U5VBG",
        "colab_type": "code",
        "colab": {
          "base_uri": "https://localhost:8080/",
          "height": 50
        },
        "outputId": "cc8a7041-6bf5-40a8-e28a-122eb8b931a0"
      },
      "source": [
        "tf_X = tf.constant(X_train)\n",
        "tf_Y = tf.constant(y_train)\n",
        "print(tf_Y.shape.as_list)\n",
        "print(tf_X.shape.as_list)\n"
      ],
      "execution_count": 134,
      "outputs": [
        {
          "output_type": "stream",
          "text": [
            "<bound method TensorShape.as_list of TensorShape([6141, 102])>\n",
            "<bound method TensorShape.as_list of TensorShape([6141, 50, 50, 3])>\n"
          ],
          "name": "stdout"
        }
      ]
    },
    {
      "cell_type": "code",
      "metadata": {
        "id": "123JOL9J5ist",
        "colab_type": "code",
        "colab": {
          "base_uri": "https://localhost:8080/",
          "height": 404
        },
        "outputId": "0906edfa-c385-4a42-e130-9f4cb7431316"
      },
      "source": [
        "model.fit(tf_X, tf_Y, epochs = 100, batch_size = 32)"
      ],
      "execution_count": 135,
      "outputs": [
        {
          "output_type": "stream",
          "text": [
            "Epoch 1/100\n"
          ],
          "name": "stdout"
        },
        {
          "output_type": "error",
          "ename": "InvalidArgumentError",
          "evalue": "ignored",
          "traceback": [
            "\u001b[0;31m---------------------------------------------------------------------------\u001b[0m",
            "\u001b[0;31mInvalidArgumentError\u001b[0m                      Traceback (most recent call last)",
            "\u001b[0;32m<ipython-input-135-f96730fc7c02>\u001b[0m in \u001b[0;36m<module>\u001b[0;34m()\u001b[0m\n\u001b[0;32m----> 1\u001b[0;31m \u001b[0mmodel\u001b[0m\u001b[0;34m.\u001b[0m\u001b[0mfit\u001b[0m\u001b[0;34m(\u001b[0m\u001b[0mtf_X\u001b[0m\u001b[0;34m,\u001b[0m \u001b[0mtf_Y\u001b[0m\u001b[0;34m,\u001b[0m \u001b[0mepochs\u001b[0m \u001b[0;34m=\u001b[0m \u001b[0;36m100\u001b[0m\u001b[0;34m,\u001b[0m \u001b[0mbatch_size\u001b[0m \u001b[0;34m=\u001b[0m \u001b[0;36m32\u001b[0m\u001b[0;34m)\u001b[0m\u001b[0;34m\u001b[0m\u001b[0;34m\u001b[0m\u001b[0m\n\u001b[0m",
            "\u001b[0;32m/usr/local/lib/python3.6/dist-packages/tensorflow/python/keras/engine/training.py\u001b[0m in \u001b[0;36m_method_wrapper\u001b[0;34m(self, *args, **kwargs)\u001b[0m\n\u001b[1;32m    106\u001b[0m   \u001b[0;32mdef\u001b[0m \u001b[0m_method_wrapper\u001b[0m\u001b[0;34m(\u001b[0m\u001b[0mself\u001b[0m\u001b[0;34m,\u001b[0m \u001b[0;34m*\u001b[0m\u001b[0margs\u001b[0m\u001b[0;34m,\u001b[0m \u001b[0;34m**\u001b[0m\u001b[0mkwargs\u001b[0m\u001b[0;34m)\u001b[0m\u001b[0;34m:\u001b[0m\u001b[0;34m\u001b[0m\u001b[0;34m\u001b[0m\u001b[0m\n\u001b[1;32m    107\u001b[0m     \u001b[0;32mif\u001b[0m \u001b[0;32mnot\u001b[0m \u001b[0mself\u001b[0m\u001b[0;34m.\u001b[0m\u001b[0m_in_multi_worker_mode\u001b[0m\u001b[0;34m(\u001b[0m\u001b[0;34m)\u001b[0m\u001b[0;34m:\u001b[0m  \u001b[0;31m# pylint: disable=protected-access\u001b[0m\u001b[0;34m\u001b[0m\u001b[0;34m\u001b[0m\u001b[0m\n\u001b[0;32m--> 108\u001b[0;31m       \u001b[0;32mreturn\u001b[0m \u001b[0mmethod\u001b[0m\u001b[0;34m(\u001b[0m\u001b[0mself\u001b[0m\u001b[0;34m,\u001b[0m \u001b[0;34m*\u001b[0m\u001b[0margs\u001b[0m\u001b[0;34m,\u001b[0m \u001b[0;34m**\u001b[0m\u001b[0mkwargs\u001b[0m\u001b[0;34m)\u001b[0m\u001b[0;34m\u001b[0m\u001b[0;34m\u001b[0m\u001b[0m\n\u001b[0m\u001b[1;32m    109\u001b[0m \u001b[0;34m\u001b[0m\u001b[0m\n\u001b[1;32m    110\u001b[0m     \u001b[0;31m# Running inside `run_distribute_coordinator` already.\u001b[0m\u001b[0;34m\u001b[0m\u001b[0;34m\u001b[0m\u001b[0;34m\u001b[0m\u001b[0m\n",
            "\u001b[0;32m/usr/local/lib/python3.6/dist-packages/tensorflow/python/keras/engine/training.py\u001b[0m in \u001b[0;36mfit\u001b[0;34m(self, x, y, batch_size, epochs, verbose, callbacks, validation_split, validation_data, shuffle, class_weight, sample_weight, initial_epoch, steps_per_epoch, validation_steps, validation_batch_size, validation_freq, max_queue_size, workers, use_multiprocessing)\u001b[0m\n\u001b[1;32m   1096\u001b[0m                 batch_size=batch_size):\n\u001b[1;32m   1097\u001b[0m               \u001b[0mcallbacks\u001b[0m\u001b[0;34m.\u001b[0m\u001b[0mon_train_batch_begin\u001b[0m\u001b[0;34m(\u001b[0m\u001b[0mstep\u001b[0m\u001b[0;34m)\u001b[0m\u001b[0;34m\u001b[0m\u001b[0;34m\u001b[0m\u001b[0m\n\u001b[0;32m-> 1098\u001b[0;31m               \u001b[0mtmp_logs\u001b[0m \u001b[0;34m=\u001b[0m \u001b[0mtrain_function\u001b[0m\u001b[0;34m(\u001b[0m\u001b[0miterator\u001b[0m\u001b[0;34m)\u001b[0m\u001b[0;34m\u001b[0m\u001b[0;34m\u001b[0m\u001b[0m\n\u001b[0m\u001b[1;32m   1099\u001b[0m               \u001b[0;32mif\u001b[0m \u001b[0mdata_handler\u001b[0m\u001b[0;34m.\u001b[0m\u001b[0mshould_sync\u001b[0m\u001b[0;34m:\u001b[0m\u001b[0;34m\u001b[0m\u001b[0;34m\u001b[0m\u001b[0m\n\u001b[1;32m   1100\u001b[0m                 \u001b[0mcontext\u001b[0m\u001b[0;34m.\u001b[0m\u001b[0masync_wait\u001b[0m\u001b[0;34m(\u001b[0m\u001b[0;34m)\u001b[0m\u001b[0;34m\u001b[0m\u001b[0;34m\u001b[0m\u001b[0m\n",
            "\u001b[0;32m/usr/local/lib/python3.6/dist-packages/tensorflow/python/eager/def_function.py\u001b[0m in \u001b[0;36m__call__\u001b[0;34m(self, *args, **kwds)\u001b[0m\n\u001b[1;32m    778\u001b[0m       \u001b[0;32melse\u001b[0m\u001b[0;34m:\u001b[0m\u001b[0;34m\u001b[0m\u001b[0;34m\u001b[0m\u001b[0m\n\u001b[1;32m    779\u001b[0m         \u001b[0mcompiler\u001b[0m \u001b[0;34m=\u001b[0m \u001b[0;34m\"nonXla\"\u001b[0m\u001b[0;34m\u001b[0m\u001b[0;34m\u001b[0m\u001b[0m\n\u001b[0;32m--> 780\u001b[0;31m         \u001b[0mresult\u001b[0m \u001b[0;34m=\u001b[0m \u001b[0mself\u001b[0m\u001b[0;34m.\u001b[0m\u001b[0m_call\u001b[0m\u001b[0;34m(\u001b[0m\u001b[0;34m*\u001b[0m\u001b[0margs\u001b[0m\u001b[0;34m,\u001b[0m \u001b[0;34m**\u001b[0m\u001b[0mkwds\u001b[0m\u001b[0;34m)\u001b[0m\u001b[0;34m\u001b[0m\u001b[0;34m\u001b[0m\u001b[0m\n\u001b[0m\u001b[1;32m    781\u001b[0m \u001b[0;34m\u001b[0m\u001b[0m\n\u001b[1;32m    782\u001b[0m       \u001b[0mnew_tracing_count\u001b[0m \u001b[0;34m=\u001b[0m \u001b[0mself\u001b[0m\u001b[0;34m.\u001b[0m\u001b[0m_get_tracing_count\u001b[0m\u001b[0;34m(\u001b[0m\u001b[0;34m)\u001b[0m\u001b[0;34m\u001b[0m\u001b[0;34m\u001b[0m\u001b[0m\n",
            "\u001b[0;32m/usr/local/lib/python3.6/dist-packages/tensorflow/python/eager/def_function.py\u001b[0m in \u001b[0;36m_call\u001b[0;34m(self, *args, **kwds)\u001b[0m\n\u001b[1;32m    805\u001b[0m       \u001b[0;31m# In this case we have created variables on the first call, so we run the\u001b[0m\u001b[0;34m\u001b[0m\u001b[0;34m\u001b[0m\u001b[0;34m\u001b[0m\u001b[0m\n\u001b[1;32m    806\u001b[0m       \u001b[0;31m# defunned version which is guaranteed to never create variables.\u001b[0m\u001b[0;34m\u001b[0m\u001b[0;34m\u001b[0m\u001b[0;34m\u001b[0m\u001b[0m\n\u001b[0;32m--> 807\u001b[0;31m       \u001b[0;32mreturn\u001b[0m \u001b[0mself\u001b[0m\u001b[0;34m.\u001b[0m\u001b[0m_stateless_fn\u001b[0m\u001b[0;34m(\u001b[0m\u001b[0;34m*\u001b[0m\u001b[0margs\u001b[0m\u001b[0;34m,\u001b[0m \u001b[0;34m**\u001b[0m\u001b[0mkwds\u001b[0m\u001b[0;34m)\u001b[0m  \u001b[0;31m# pylint: disable=not-callable\u001b[0m\u001b[0;34m\u001b[0m\u001b[0;34m\u001b[0m\u001b[0m\n\u001b[0m\u001b[1;32m    808\u001b[0m     \u001b[0;32melif\u001b[0m \u001b[0mself\u001b[0m\u001b[0;34m.\u001b[0m\u001b[0m_stateful_fn\u001b[0m \u001b[0;32mis\u001b[0m \u001b[0;32mnot\u001b[0m \u001b[0;32mNone\u001b[0m\u001b[0;34m:\u001b[0m\u001b[0;34m\u001b[0m\u001b[0;34m\u001b[0m\u001b[0m\n\u001b[1;32m    809\u001b[0m       \u001b[0;31m# Release the lock early so that multiple threads can perform the call\u001b[0m\u001b[0;34m\u001b[0m\u001b[0;34m\u001b[0m\u001b[0;34m\u001b[0m\u001b[0m\n",
            "\u001b[0;32m/usr/local/lib/python3.6/dist-packages/tensorflow/python/eager/function.py\u001b[0m in \u001b[0;36m__call__\u001b[0;34m(self, *args, **kwargs)\u001b[0m\n\u001b[1;32m   2827\u001b[0m     \u001b[0;32mwith\u001b[0m \u001b[0mself\u001b[0m\u001b[0;34m.\u001b[0m\u001b[0m_lock\u001b[0m\u001b[0;34m:\u001b[0m\u001b[0;34m\u001b[0m\u001b[0;34m\u001b[0m\u001b[0m\n\u001b[1;32m   2828\u001b[0m       \u001b[0mgraph_function\u001b[0m\u001b[0;34m,\u001b[0m \u001b[0margs\u001b[0m\u001b[0;34m,\u001b[0m \u001b[0mkwargs\u001b[0m \u001b[0;34m=\u001b[0m \u001b[0mself\u001b[0m\u001b[0;34m.\u001b[0m\u001b[0m_maybe_define_function\u001b[0m\u001b[0;34m(\u001b[0m\u001b[0margs\u001b[0m\u001b[0;34m,\u001b[0m \u001b[0mkwargs\u001b[0m\u001b[0;34m)\u001b[0m\u001b[0;34m\u001b[0m\u001b[0;34m\u001b[0m\u001b[0m\n\u001b[0;32m-> 2829\u001b[0;31m     \u001b[0;32mreturn\u001b[0m \u001b[0mgraph_function\u001b[0m\u001b[0;34m.\u001b[0m\u001b[0m_filtered_call\u001b[0m\u001b[0;34m(\u001b[0m\u001b[0margs\u001b[0m\u001b[0;34m,\u001b[0m \u001b[0mkwargs\u001b[0m\u001b[0;34m)\u001b[0m  \u001b[0;31m# pylint: disable=protected-access\u001b[0m\u001b[0;34m\u001b[0m\u001b[0;34m\u001b[0m\u001b[0m\n\u001b[0m\u001b[1;32m   2830\u001b[0m \u001b[0;34m\u001b[0m\u001b[0m\n\u001b[1;32m   2831\u001b[0m   \u001b[0;34m@\u001b[0m\u001b[0mproperty\u001b[0m\u001b[0;34m\u001b[0m\u001b[0;34m\u001b[0m\u001b[0m\n",
            "\u001b[0;32m/usr/local/lib/python3.6/dist-packages/tensorflow/python/eager/function.py\u001b[0m in \u001b[0;36m_filtered_call\u001b[0;34m(self, args, kwargs, cancellation_manager)\u001b[0m\n\u001b[1;32m   1846\u001b[0m                            resource_variable_ops.BaseResourceVariable))],\n\u001b[1;32m   1847\u001b[0m         \u001b[0mcaptured_inputs\u001b[0m\u001b[0;34m=\u001b[0m\u001b[0mself\u001b[0m\u001b[0;34m.\u001b[0m\u001b[0mcaptured_inputs\u001b[0m\u001b[0;34m,\u001b[0m\u001b[0;34m\u001b[0m\u001b[0;34m\u001b[0m\u001b[0m\n\u001b[0;32m-> 1848\u001b[0;31m         cancellation_manager=cancellation_manager)\n\u001b[0m\u001b[1;32m   1849\u001b[0m \u001b[0;34m\u001b[0m\u001b[0m\n\u001b[1;32m   1850\u001b[0m   \u001b[0;32mdef\u001b[0m \u001b[0m_call_flat\u001b[0m\u001b[0;34m(\u001b[0m\u001b[0mself\u001b[0m\u001b[0;34m,\u001b[0m \u001b[0margs\u001b[0m\u001b[0;34m,\u001b[0m \u001b[0mcaptured_inputs\u001b[0m\u001b[0;34m,\u001b[0m \u001b[0mcancellation_manager\u001b[0m\u001b[0;34m=\u001b[0m\u001b[0;32mNone\u001b[0m\u001b[0;34m)\u001b[0m\u001b[0;34m:\u001b[0m\u001b[0;34m\u001b[0m\u001b[0;34m\u001b[0m\u001b[0m\n",
            "\u001b[0;32m/usr/local/lib/python3.6/dist-packages/tensorflow/python/eager/function.py\u001b[0m in \u001b[0;36m_call_flat\u001b[0;34m(self, args, captured_inputs, cancellation_manager)\u001b[0m\n\u001b[1;32m   1922\u001b[0m       \u001b[0;31m# No tape is watching; skip to running the function.\u001b[0m\u001b[0;34m\u001b[0m\u001b[0;34m\u001b[0m\u001b[0;34m\u001b[0m\u001b[0m\n\u001b[1;32m   1923\u001b[0m       return self._build_call_outputs(self._inference_function.call(\n\u001b[0;32m-> 1924\u001b[0;31m           ctx, args, cancellation_manager=cancellation_manager))\n\u001b[0m\u001b[1;32m   1925\u001b[0m     forward_backward = self._select_forward_and_backward_functions(\n\u001b[1;32m   1926\u001b[0m         \u001b[0margs\u001b[0m\u001b[0;34m,\u001b[0m\u001b[0;34m\u001b[0m\u001b[0;34m\u001b[0m\u001b[0m\n",
            "\u001b[0;32m/usr/local/lib/python3.6/dist-packages/tensorflow/python/eager/function.py\u001b[0m in \u001b[0;36mcall\u001b[0;34m(self, ctx, args, cancellation_manager)\u001b[0m\n\u001b[1;32m    548\u001b[0m               \u001b[0minputs\u001b[0m\u001b[0;34m=\u001b[0m\u001b[0margs\u001b[0m\u001b[0;34m,\u001b[0m\u001b[0;34m\u001b[0m\u001b[0;34m\u001b[0m\u001b[0m\n\u001b[1;32m    549\u001b[0m               \u001b[0mattrs\u001b[0m\u001b[0;34m=\u001b[0m\u001b[0mattrs\u001b[0m\u001b[0;34m,\u001b[0m\u001b[0;34m\u001b[0m\u001b[0;34m\u001b[0m\u001b[0m\n\u001b[0;32m--> 550\u001b[0;31m               ctx=ctx)\n\u001b[0m\u001b[1;32m    551\u001b[0m         \u001b[0;32melse\u001b[0m\u001b[0;34m:\u001b[0m\u001b[0;34m\u001b[0m\u001b[0;34m\u001b[0m\u001b[0m\n\u001b[1;32m    552\u001b[0m           outputs = execute.execute_with_cancellation(\n",
            "\u001b[0;32m/usr/local/lib/python3.6/dist-packages/tensorflow/python/eager/execute.py\u001b[0m in \u001b[0;36mquick_execute\u001b[0;34m(op_name, num_outputs, inputs, attrs, ctx, name)\u001b[0m\n\u001b[1;32m     58\u001b[0m     \u001b[0mctx\u001b[0m\u001b[0;34m.\u001b[0m\u001b[0mensure_initialized\u001b[0m\u001b[0;34m(\u001b[0m\u001b[0;34m)\u001b[0m\u001b[0;34m\u001b[0m\u001b[0;34m\u001b[0m\u001b[0m\n\u001b[1;32m     59\u001b[0m     tensors = pywrap_tfe.TFE_Py_Execute(ctx._handle, device_name, op_name,\n\u001b[0;32m---> 60\u001b[0;31m                                         inputs, attrs, num_outputs)\n\u001b[0m\u001b[1;32m     61\u001b[0m   \u001b[0;32mexcept\u001b[0m \u001b[0mcore\u001b[0m\u001b[0;34m.\u001b[0m\u001b[0m_NotOkStatusException\u001b[0m \u001b[0;32mas\u001b[0m \u001b[0me\u001b[0m\u001b[0;34m:\u001b[0m\u001b[0;34m\u001b[0m\u001b[0;34m\u001b[0m\u001b[0m\n\u001b[1;32m     62\u001b[0m     \u001b[0;32mif\u001b[0m \u001b[0mname\u001b[0m \u001b[0;32mis\u001b[0m \u001b[0;32mnot\u001b[0m \u001b[0;32mNone\u001b[0m\u001b[0;34m:\u001b[0m\u001b[0;34m\u001b[0m\u001b[0;34m\u001b[0m\u001b[0m\n",
            "\u001b[0;31mInvalidArgumentError\u001b[0m:  logits and labels must have the same first dimension, got logits shape [32,102] and labels shape [3264]\n\t [[node sparse_categorical_crossentropy/SparseSoftmaxCrossEntropyWithLogits/SparseSoftmaxCrossEntropyWithLogits (defined at <ipython-input-131-f96730fc7c02>:1) ]] [Op:__inference_train_function_41559]\n\nFunction call stack:\ntrain_function\n"
          ]
        }
      ]
    },
    {
      "cell_type": "code",
      "metadata": {
        "id": "cACyO9keDss5",
        "colab_type": "code",
        "colab": {}
      },
      "source": [
        "\n"
      ],
      "execution_count": null,
      "outputs": []
    }
  ]
}